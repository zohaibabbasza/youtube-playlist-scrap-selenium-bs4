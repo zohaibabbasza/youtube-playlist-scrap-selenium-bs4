{
 "cells": [
  {
   "cell_type": "code",
   "execution_count": 26,
   "metadata": {},
   "outputs": [
    {
     "name": "stdout",
     "output_type": "stream",
     "text": [
      "534\n"
     ]
    }
   ],
   "source": [
    "from time import sleep\n",
    "from selenium import webdriver\n",
    "from selenium.webdriver.common.keys import Keys\n",
    "from selenium.webdriver.common.by import By\n",
    "from selenium.webdriver.support.ui import WebDriverWait\n",
    "from selenium.webdriver.support import expected_conditions as EC\n",
    "import pandas as pd\n",
    "import time\n",
    "from selenium.webdriver.common.desired_capabilities import DesiredCapabilities\n",
    "caps = DesiredCapabilities.CHROME\n",
    "\n",
    "def scrollDown(browser, numberOfScrollDowns):\n",
    "    body = browser.find_element_by_tag_name(\"body\")\n",
    "    while numberOfScrollDowns >=0:\n",
    "        body.send_keys(Keys.PAGE_DOWN)\n",
    "        numberOfScrollDowns -= 1\n",
    "    return browser\n",
    "\n",
    "caps[\"marionette\"] = True\n",
    "\n",
    "geckodriver=\"./chromedriver\"\n",
    "\n",
    "driver = webdriver.Chrome(geckodriver)\n",
    "driver.get(\"https://www.youtube.com/results?search_query=shakira&sp=EgIQAw%253D%253D\")\n",
    "#driver.execute_script(\"window.scrollTo(0, 1000000000000000000000000000000)\")\n",
    "driver = scrollDown(driver,1000)\n",
    "time.sleep(10)\n",
    "user_data = driver.find_elements_by_xpath('//*[@id=\"view-more\"]/a')\n",
    "links = []\n",
    "for i in user_data:\n",
    "            links.append(i.get_attribute('href'))\n",
    "\n",
    "print(len(links))\n",
    "\n",
    "driver.close()\n",
    "\n"
   ]
  },
  {
   "cell_type": "code",
   "execution_count": 5,
   "metadata": {},
   "outputs": [
    {
     "name": "stdout",
     "output_type": "stream",
     "text": [
      "hello\n"
     ]
    }
   ],
   "source": [
    "print('hello')"
   ]
  },
  {
   "cell_type": "code",
   "execution_count": null,
   "metadata": {},
   "outputs": [],
   "source": []
  }
 ],
 "metadata": {
  "kernelspec": {
   "display_name": "Python 3",
   "language": "python",
   "name": "python3"
  },
  "language_info": {
   "codemirror_mode": {
    "name": "ipython",
    "version": 3
   },
   "file_extension": ".py",
   "mimetype": "text/x-python",
   "name": "python",
   "nbconvert_exporter": "python",
   "pygments_lexer": "ipython3",
   "version": "3.6.8"
  }
 },
 "nbformat": 4,
 "nbformat_minor": 2
}
